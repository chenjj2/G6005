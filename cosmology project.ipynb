{
 "metadata": {
  "name": "",
  "signature": "sha256:18855d9f1f1aa6edc6972c69508bcc5fc422722ca56aadf907445c55ca45b826"
 },
 "nbformat": 3,
 "nbformat_minor": 0,
 "worksheets": [
  {
   "cells": [
    {
     "cell_type": "code",
     "collapsed": false,
     "input": [
      "import numpy as np\n",
      "import matplotlib.pyplot as plt\n",
      "import scipy.integrate as integrate\n",
      "\n",
      "%matplotlib inline"
     ],
     "language": "python",
     "metadata": {},
     "outputs": [],
     "prompt_number": 516
    },
    {
     "cell_type": "code",
     "collapsed": false,
     "input": [
      "# We use cgs units.\n",
      "\n",
      "H_0 = 73.8 * 3.24e-20  # Hubble constant, 1/[s]\n",
      "H100 = 73.8 / 100.     # h\n",
      "C = 3e10               # speed of light, [cm]/[s]\n",
      "G = 6.674e-8           # [cm3]/[g s2]\n",
      "Z_DEC = 1400.          # redshift at decouple\n",
      "DEG_SURVEY = 1.21847   # rad\n",
      "M_MIN = 2e14 * 2e33    # [g]\n",
      "DELTA_C = 1.69 / (1. + Z_DEC)"
     ],
     "language": "python",
     "metadata": {},
     "outputs": [],
     "prompt_number": 517
    },
    {
     "cell_type": "code",
     "collapsed": false,
     "input": [
      "omega_m_0 = 0.26\n",
      "omega_lambda_0 = 0.74"
     ],
     "language": "python",
     "metadata": {},
     "outputs": [],
     "prompt_number": 518
    },
    {
     "cell_type": "markdown",
     "metadata": {},
     "source": [
      "Padmanabhan 5.120 gives the number density with mass between $M$ and $M+dM$:\n",
      "\\begin{equation}\n",
      "    \\frac{\\Delta N}{\\Delta V \\Delta M} = - \\frac{\\bar{\\rho}}{M} \\left(\\frac{2}{\\pi}\\right)^{1/2} \\frac{\\delta_c}{\\sigma^2} \\left(\\frac{\\partial \\sigma}{\\partial M}\\right) \\exp\\left(- \\frac{\\delta_c^2}{2 \\sigma^2}\\right)\n",
      "\\end{equation}"
     ]
    },
    {
     "cell_type": "code",
     "collapsed": false,
     "input": [
      "def cal_dN_dVdM(M, omega):\n",
      "    rho = cal_rho(omega)\n",
      "    R = ((3. * M) / (4. * np.pi * rho))**(1./3.)\n",
      "    dR_dM = 1. / (4. * np.pi * rho * R**2.)\n",
      "    dsigma_dR = cal_dsigma_dR(omega, R)\n",
      "    sigma = cal_sigma(omega, R)\n",
      "    return - rho / M * (2. / np.pi)**0.5 * DELTA_C / sigma**2. * dsigma_dR * dR_dM * np.exp(- DELTA_C**2. / 2. / sigma**2.)\n",
      "def cal_log_dN_dVdM(M, omega):\n",
      "    rho = cal_rho(omega)\n",
      "    R = ((3. * M) / (4. * np.pi * rho))**(1./3.)\n",
      "    dR_dM = 1. / (4. * np.pi * rho * R**2.)\n",
      "    dsigma_dR = cal_dsigma_dR(omega, R)\n",
      "    sigma = cal_sigma(omega, R)\n",
      "    return np.log(- rho / M * (2. / np.pi)**0.5 * DELTA_C / sigma**2. * dsigma_dR * dR_dM) - DELTA_C**2. / 2. / sigma**2.\n",
      "def cal_rho(omega):\n",
      "    return omega * 3. * H_0**2. / (8. * np.pi * G)"
     ],
     "language": "python",
     "metadata": {},
     "outputs": [],
     "prompt_number": 519
    },
    {
     "cell_type": "markdown",
     "metadata": {},
     "source": [
      "where by 5.107:\n",
      "\\begin{equation}\n",
      "    \\sigma^2 = \\int_0^\\infty \\frac{k^2}{2\\pi^2} \\mathcal{P}(k) W_k^2 dk\n",
      "\\end{equation}"
     ]
    },
    {
     "cell_type": "code",
     "collapsed": false,
     "input": [
      "def cal_sigma(omega, R):\n",
      "    def Tmp(k, omega, R):\n",
      "        return k**2. / (2. * np.pi**2.) * cal_power_spectrum(omega, k) * cal_window(k, R)**2.\n",
      "    sigma2, _ = integrate.quad(Tmp, 0., 1e-25, args = (omega, R)) \n",
      "    # since the function approaches to 0 very fast, we only integrate the main part from 0 - 1e-25\n",
      "    sigma = sigma2**0.5\n",
      "    return sigma"
     ],
     "language": "python",
     "metadata": {},
     "outputs": [],
     "prompt_number": 520
    },
    {
     "cell_type": "markdown",
     "metadata": {},
     "source": [
      "and\n",
      "\\begin{equation}\n",
      "    \\frac{\\partial \\sigma}{\\partial R} = \\frac{1}{\\sigma} \\int_0^\\infty \\frac{k^2}{2\\pi^2} \\mathcal{P}(k) W_k \\frac{\\partial W_k}{\\partial R} dk\n",
      "\\end{equation}"
     ]
    },
    {
     "cell_type": "code",
     "collapsed": false,
     "input": [
      "def cal_dsigma_dR(omega, R):\n",
      "    def Tmp(k, omega, R):\n",
      "        return k**2. / (2. * np.pi**2.) * cal_power_spectrum(omega, k) * cal_window(k, R) * cal_dwindow_dR(k, R)\n",
      "    sigma_dsigma_dR, _ = integrate.quad(Tmp, 0., 1e-25, args = (omega, R))\n",
      "    dsigma_dR = sigma_dsigma_dR / cal_sigma(omega, R)\n",
      "    return dsigma_dR"
     ],
     "language": "python",
     "metadata": {},
     "outputs": [],
     "prompt_number": 521
    },
    {
     "cell_type": "markdown",
     "metadata": {},
     "source": [
      "with (by Peebles 25.22 and others)\n",
      "\\begin{eqnarray}\n",
      "    &&\\mathcal{P}(k) = \\frac{Ak}{(1+\\alpha k+\\beta k^2)^2}\\\\\n",
      "    &&\\alpha = \\frac{8}{\\Omega h^2} \\textrm{Mpc}\\\\\n",
      "    &&\\beta = \\frac{4.7}{(\\Omega h^2)^2} \\textrm{Mpc}^2\\\\\n",
      "    &&A = \\frac{600}{h^4 b^2} \\textrm{Mpc}^4\\\\\n",
      "    &&b = 2\\\\\n",
      "    &&W_k = \\frac{3}{(k R)^3} [sin(k R) - k R cos(k R)]\\\\\n",
      "    &&\\frac{\\partial W_k}{\\partial R} = \\frac{3 sin(k R)}{k R^2} - \\frac{9 [sin(k R) - k R cos(k R)]}{k^3 R^4}\n",
      "\\end{eqnarray}"
     ]
    },
    {
     "cell_type": "code",
     "collapsed": false,
     "input": [
      "def cal_power_spectrum(omega, k):\n",
      "    b = 2.\n",
      "    A = 600. / (H100**4. * b**2.) # [Mpc4]\n",
      "    k = k * 3.08567758e24 # 1/[cm] -> 1/[Mpc]\n",
      "    alpha = 8. / (omega * H100**2.) # [Mpc]\n",
      "    beta = 4.7 / (omega * H100**2.)**2. # [Mpc2]\n",
      "    p = A * k / (1. + alpha * k + beta * k**2.)**2.\n",
      "    p = p * (3.08567758e24)**3. # [Mpc3] -> [cm3]\n",
      "    return p\n",
      "def cal_window(k, R):\n",
      "    w = 3. / (k * R)**3. * (np.sin(k * R) - k * R * np.cos(k * R))\n",
      "    return w\n",
      "def cal_dwindow_dR(k, R):\n",
      "    return 3. * np.sin(k * R) / (k * R**2.) - 9. * (np.sin(k * R) - k * R * np.cos(k * R)) / (k**3. * R**4.)"
     ],
     "language": "python",
     "metadata": {},
     "outputs": [],
     "prompt_number": 522
    },
    {
     "cell_type": "markdown",
     "metadata": {},
     "source": [
      "On the other hand, by Eisenstein 19:\n",
      "\\begin{equation}\n",
      "    \\frac{\\Delta V}{\\Delta z \\Delta \\Omega} = \\frac{c}{H_0} \\frac{r_1^2(z)}{\\sqrt[]{1 - \\Omega + \\Omega (1 + z)^3}}\n",
      "\\end{equation}"
     ]
    },
    {
     "cell_type": "code",
     "collapsed": false,
     "input": [
      "def cal_dV_dzdOmega(omega, z):\n",
      "    return C / H_0 * cal_r1(omega, z)**2. / (1. - omega + omega * (1.+z)**3.)**0.5"
     ],
     "language": "python",
     "metadata": {},
     "outputs": [],
     "prompt_number": 523
    },
    {
     "cell_type": "markdown",
     "metadata": {},
     "source": [
      "where\n",
      "\\begin{eqnarray}\n",
      "    &&r_1(z) = c(\\eta(0) - \\eta(z))\\\\\n",
      "    &&\\eta(z) = \\frac{1}{H_0} \\int_0^{(1+z)^{-1}} \\frac{da}{a^2 H(a)}\\\\\n",
      "    &&H(a) = \\sqrt[]{\\Omega a^{-3} + (1 - \\Omega)}\n",
      "\\end{eqnarray}"
     ]
    },
    {
     "cell_type": "code",
     "collapsed": false,
     "input": [
      "def cal_r1(omega, z):\n",
      "    return C * (cal_eta(omega, 0.) - cal_eta(omega, z))\n",
      "def cal_eta(omega, z):\n",
      "    def Tmp(a, omega):\n",
      "        return 1. / a**2. / cal_H(omega, a)\n",
      "    tmp, _ = integrate.quad(Tmp, 0., 1./(1.+z), args = (omega, ))\n",
      "    return (1. / H_0) * tmp\n",
      "def cal_H(omega, a):\n",
      "    return (omega / a**3. + (1. - omega))**0.5"
     ],
     "language": "python",
     "metadata": {},
     "outputs": [],
     "prompt_number": 524
    },
    {
     "cell_type": "markdown",
     "metadata": {},
     "source": [
      "Now we can calculate $\\frac{\\Delta N}{\\Delta M \\Delta z \\Delta \\Omega}$"
     ]
    },
    {
     "cell_type": "code",
     "collapsed": false,
     "input": [
      "def cal_dN_dMdzdOmega(M, omega, z):\n",
      "    return cal_dN_dVdM(M, omega) * cal_dV_dzdOmega(omega, z)"
     ],
     "language": "python",
     "metadata": {},
     "outputs": [],
     "prompt_number": 525
    },
    {
     "cell_type": "markdown",
     "metadata": {},
     "source": [
      "Integral over M and get $\\frac{\\Delta N}{\\Delta z \\Delta \\Omega}$"
     ]
    },
    {
     "cell_type": "code",
     "collapsed": false,
     "input": [
      "def cal_dN_dzdOmega(z, omega):\n",
      "    tmp, _ = integrate.quad(cal_dN_dMdzdOmega, M_MIN, 100.*M_MIN, args = (omega, z))\n",
      "    return tmp"
     ],
     "language": "python",
     "metadata": {},
     "outputs": [],
     "prompt_number": 526
    },
    {
     "cell_type": "markdown",
     "metadata": {},
     "source": [
      "$1$. Compute the total number $N_{tot}$ of clusters in a hypothetical survey"
     ]
    },
    {
     "cell_type": "code",
     "collapsed": false,
     "input": [
      "tmp, _ = integrate.quad(cal_dN_dzdOmega, 0., 2., args = (omega_m_0, ))\n",
      "N_tot = DEG_SURVEY * tmp"
     ],
     "language": "python",
     "metadata": {},
     "outputs": [],
     "prompt_number": 527
    },
    {
     "cell_type": "code",
     "collapsed": false,
     "input": [
      "N_tot"
     ],
     "language": "python",
     "metadata": {},
     "outputs": [
      {
       "metadata": {},
       "output_type": "pyout",
       "prompt_number": 528,
       "text": [
        "544174.2554652315"
       ]
      }
     ],
     "prompt_number": 528
    },
    {
     "cell_type": "markdown",
     "metadata": {},
     "source": [
      "$2$. Compute $N_{tot}$ as a function of $\\Omega_m$"
     ]
    },
    {
     "cell_type": "code",
     "collapsed": false,
     "input": [
      "N_tot = np.zeros(11)\n",
      "omega_m = np.linspace(0.252, 0.268, 11)\n",
      "for i in range(11):\n",
      "    tmp, _ = integrate.quad(cal_dN_dzdOmega, 0., 2., args = (omega_m[i], ))\n",
      "    N_tot[i] = DEG_SURVEY * tmp"
     ],
     "language": "python",
     "metadata": {},
     "outputs": [],
     "prompt_number": 540
    },
    {
     "cell_type": "code",
     "collapsed": false,
     "input": [
      "plt.plot(omega_m,N_tot)\n",
      "plt.errorbar(omega_m,N_tot,yerr=N_tot**0.5)\n",
      "# the errorbars almost overlap in this plot\n",
      "# which means that the accuracy that Omega_m could be determined by this method \n",
      "# is about plus/minus 0.0008"
     ],
     "language": "python",
     "metadata": {},
     "outputs": [
      {
       "metadata": {},
       "output_type": "pyout",
       "prompt_number": 541,
       "text": [
        "<Container object of 3 artists>"
       ]
      },
      {
       "metadata": {},
       "output_type": "display_data",
       "png": "[encoded data removed]",
       "text": [
        "<matplotlib.figure.Figure at 0x1171406d0>"
       ]
      }
     ],
     "prompt_number": 541
    },
    {
     "cell_type": "markdown",
     "metadata": {},
     "source": [
      "$3$. Make a plot of $dN/dz$"
     ]
    },
    {
     "cell_type": "code",
     "collapsed": false,
     "input": [
      "z = np.linspace(0., 10., 100)\n",
      "dndz = np.zeros(100)\n",
      "for i in range(100):\n",
      "    dndz[i] = cal_dN_dzdOmega(z[i], omega_m_0)\n",
      "plt.plot(z, dndz)"
     ],
     "language": "python",
     "metadata": {},
     "outputs": [
      {
       "metadata": {},
       "output_type": "pyout",
       "prompt_number": 537,
       "text": [
        "[<matplotlib.lines.Line2D at 0x117219e10>]"
       ]
      },
      {
       "metadata": {},
       "output_type": "display_data",
       "png": "[encoded data removed]",
       "text": [
        "<matplotlib.figure.Figure at 0x117136550>"
       ]
      }
     ],
     "prompt_number": 537
    },
    {
     "cell_type": "code",
     "collapsed": false,
     "input": [
      "# the redshift where most of the clusters are located.\n",
      "z[dndz==max(dndz)]"
     ],
     "language": "python",
     "metadata": {},
     "outputs": [
      {
       "metadata": {},
       "output_type": "pyout",
       "prompt_number": 539,
       "text": [
        "array([ 2.52525253])"
       ]
      }
     ],
     "prompt_number": 539
    },
    {
     "cell_type": "code",
     "collapsed": false,
     "input": [],
     "language": "python",
     "metadata": {},
     "outputs": []
    }
   ],
   "metadata": {}
  }
 ]
}